{
 "cells": [
  {
   "cell_type": "code",
   "execution_count": 20,
   "metadata": {},
   "outputs": [
    {
     "ename": "IndentationError",
     "evalue": "unindent does not match any outer indentation level (<tokenize>, line 32)",
     "output_type": "error",
     "traceback": [
      "\u001b[1;36m  File \u001b[1;32m<tokenize>:32\u001b[1;36m\u001b[0m\n\u001b[1;33m    if n == 0\u001b[0m\n\u001b[1;37m    ^\u001b[0m\n\u001b[1;31mIndentationError\u001b[0m\u001b[1;31m:\u001b[0m unindent does not match any outer indentation level\n"
     ]
    }
   ],
   "source": [
    "import librosa\n",
    "import librosa.display\n",
    "import IPython\n",
    "import numpy as np\n",
    "from scipy import linalg\n",
    "from scipy import stats\n",
    "import scipy.signal\n",
    "from scipy.linalg import toeplitz\n",
    "from scipy.signal import wiener\n",
    "from scipy import signal\n",
    "import matplotlib.pyplot as plt\n",
    "import sounddevice as sd # only needed for playing\n",
    "import soundfile as sf # only needed if playing does not work\n",
    "from scipy.io import loadmat\n",
    "from scipy import signal\n",
    "from IPython.display import Audio\n",
    "from scipy.fftpack import ifft, idct\n",
    "import math\n",
    "\n",
    "problem= 'problem3_1'\n",
    "matdata = loadmat(f'{problem}.mat')\n",
    "n = matdata['n']\n",
    "X = matdata['x']\n",
    "lt = 2**9;\n",
    "lX =len(X); "
   ]
  }
 ],
 "metadata": {
  "kernelspec": {
   "display_name": "Python 3",
   "language": "python",
   "name": "python3"
  },
  "language_info": {
   "codemirror_mode": {
    "name": "ipython",
    "version": 3
   },
   "file_extension": ".py",
   "mimetype": "text/x-python",
   "name": "python",
   "nbconvert_exporter": "python",
   "pygments_lexer": "ipython3",
   "version": "3.11.6"
  }
 },
 "nbformat": 4,
 "nbformat_minor": 2
}
